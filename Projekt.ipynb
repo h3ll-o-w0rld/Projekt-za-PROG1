{
 "cells": [
  {
   "cell_type": "markdown",
   "metadata": {},
   "source": [
    "# Metal skupine v prostoru in času\n",
    "## Projektna naloga pri predmetu Programiranje 1\n",
    "## Vir podatkov: \n",
    "[Encyclopaedia Metallum](http://www.metal-archives.com/), najbolj obsežen poskus arhiviranja podatkov o skupinah z vsaj enim izdanim albumom\n",
    "## Zajeti podatki: \n",
    "* imena skupin;\n",
    "* leto ter država njihovega nastanka;\n",
    "* podzvrst metala, ki jo izvajajo;\n",
    "* njihov status (*Active/On hold/Split-up/Unknown/Changed name/Disputed*)\n",
    "\n",
    "Opomba: zaradi prevelike količine strani sem se omejila na 125 278 možnih ID-jev (vsaka skupina ima svoj ID, a niso vsi v uporabi). Podatke sem tako zbrala za skoraj 60 000 skupin, od teh je 16 dodanih \"na roke\".\n",
    "\n",
    "## Predvidena analiza:\n",
    "* kdaj število novih skupin na leto doseže maksimum;\n",
    "* v kateri državi je največ aktivnih skupin;\n",
    "* kateri žanri so najbolj zastopani ter kdaj so bili najbolj popularni;\n",
    "* katera podzvrst je pritegnila največ propadlih skupin."
   ]
  },
  {
   "cell_type": "code",
   "execution_count": 1,
   "metadata": {
    "collapsed": false
   },
   "outputs": [],
   "source": [
    "# priprava datoteke in uvoz podatkov za obdelavo\n",
    "%matplotlib inline\n",
    "import pandas as pd\n",
    "pd.options.display.max_rows=25\n",
    "#pd.options.display.float_format = '{:,.0f}'.format\n",
    "\n",
    "skupine = pd.read_csv('csv/metal_skupine_id.csv')\n",
    "statusi = pd.read_csv('csv/statusi.csv')\n",
    "pos_zvrsti_id = pd.read_csv('csv/zvrsti.csv')\n",
    "pos_leta = pd.read_csv('csv/leta.csv')\n",
    "#pos_zvrsti.sum()[pos_zvrsti.sum()>250].plot(kind='bar', figsize=(20, 10))\n",
    "#pos_zvrsti.sum().sort_values()"
   ]
  },
  {
   "cell_type": "markdown",
   "metadata": {},
   "source": [
    "## Katerega leta je nastalo največ novih skupin?\n",
    "\n",
    "Tu predstavljeni podatki glede novonastalih skupin na leto žal niso najbolj natančni, saj je izpuščenih podatkov preveč.\n",
    "Realno je največ skupin nastalo leta 2005, in sicer kar 5726. Kakorkoli, če spregledamo leta od 2006 dalje, so podatki precej uporabni."
   ]
  },
  {
   "cell_type": "code",
   "execution_count": null,
   "metadata": {
    "collapsed": false,
    "scrolled": true
   },
   "outputs": [],
   "source": [
    "skupine_leto = skupine['leto'].value_counts()\n",
    "#vec_kot_100 = skupine_leto > 100\n",
    "#skupine[vec_kot_100]\n",
    "skupine_leto.plot(kind='bar', figsize=(10, 5), sort_columns=True)"
   ]
  },
  {
   "cell_type": "markdown",
   "metadata": {},
   "source": [
    "Kako pa se je popularnost zvrsti spreminjala do leta 2006? Za pridobitev tega podatka je najprej treba združiti tabeli z letnicami in zvrstmi. Skupine, ki so nastale po letu 2006 (2007?), bom izpustila."
   ]
  },
  {
   "cell_type": "code",
   "execution_count": null,
   "metadata": {
    "collapsed": false
   },
   "outputs": [],
   "source": [
    "leto_zvrst = pos_leta.merge(pos_zvrsti_id)\n",
    "cisto_leto_zvrst = leto_zvrst[leto_zvrst['leto'] < 2007]\n",
    "cisto_leto_zvrst\n",
    "vsote_leta = cisto_leto_zvrst.groupby('leto').aggregate(sum)\n",
    "#pobrišem stolpec 'id':\n",
    "vsote_po_letih = vsote_leta[vsote_leta.columns.difference(['id'])]\n",
    "vsote_po_letih"
   ]
  },
  {
   "cell_type": "markdown",
   "metadata": {},
   "source": [
    "Katere izmed mnogih zvrsti so sploh bistvene? Recimo, da je zvrst zanemarljiva, če je le-tej pripadajočih skupin manj kot tisoč."
   ]
  },
  {
   "cell_type": "code",
   "execution_count": null,
   "metadata": {
    "collapsed": false
   },
   "outputs": [],
   "source": [
    "vsote_zvrsti = pos_zvrsti_id.sum()\n",
    "glavne_zvrsti = vsote_zvrsti[vsote_zvrsti >= 1000]\n",
    "glavne_zvrsti.sort_values()\n",
    "zvrsti = glavne_zvrsti.to_frame()\n",
    "nazivi_zvrsti = zvrsti[zvrsti.columns.difference([0])].transpose()\n",
    "nazivi_zvrsti = nazivi_zvrsti[nazivi_zvrsti.columns.difference(['id'])]\n",
    "nazivi_zvrsti"
   ]
  },
  {
   "cell_type": "markdown",
   "metadata": {},
   "source": [
    "Zdaj združimo omejeno časovno obdobje z omejenim spektrom zvrsti. Iz grafa spodaj je razvidno, da je najbolj zastopan žanr death metal, sledita mu pa black in thrash metal. Heavy metal je bil najbolj popularna zvrst začetek 90-ih let."
   ]
  },
  {
   "cell_type": "code",
   "execution_count": null,
   "metadata": {
    "collapsed": false,
    "scrolled": true
   },
   "outputs": [],
   "source": [
    "stolpci = [naziv for naziv in nazivi_zvrsti]\n",
    "omejene_vsote = vsote_po_letih[stolpci]\n",
    "barve = 5*[(1.0, 0.0, 0.0), (0.8, 0.1, 0.0), (0.6, 0.0, 0.1),  (0.4, 0.1, 0.0), (0.2, 0.0, 0.0),\n",
    "         (0.0, 1.0, 0.0), (0.6, 0.0, 1.0), (0.0, 0.6, 0.0), (1.0, 0.8, 0.0), (0.5, 0.5, 0.0),\n",
    "         (1.0, 0.0, 1.0), (0.0, 0.0, 0.8), (0.0, 0.0, 0.0), (0.0, 1.0, 1.0), (0.0, 0.2, 0.2),\n",
    "           (0.3, 0.0, 0.3), (0.4, 0.4, 0.7)]\n",
    "for stolpec, barva in zip(omejene_vsote, barve):\n",
    "    omejene_vsote[stolpec].plot(kind='line', legend=True, figsize=(18, 12), linewidth=1.6, color=barva)"
   ]
  },
  {
   "cell_type": "markdown",
   "metadata": {},
   "source": [
    "## Katera država ima največ aktivnih metal skupin?"
   ]
  },
  {
   "cell_type": "code",
   "execution_count": null,
   "metadata": {
    "collapsed": false
   },
   "outputs": [],
   "source": [
    "aktivni = skupine[skupine['status'] == 1]\n",
    "aktivni.plot(kind='bar')"
   ]
  },
  {
   "cell_type": "code",
   "execution_count": null,
   "metadata": {
    "collapsed": false
   },
   "outputs": [],
   "source": [
    "aktivni = skupine[skupine['status'] == 1]\n",
    "cakajoci = skupine[skupine['status'] == 2]\n",
    "propadli = skupine[(skupine['status'] == 3) | (skupine['status'] == 6)]\n",
    "neznano = skupine[skupine['status'] == 4]\n",
    "preimenovani = skupine[skupine['status'] == 5]\n",
    "skregani = skupine[skupine['status'] == 6]\n",
    "propadli.groupby('zvrst').aggregate(sum)"
   ]
  },
  {
   "cell_type": "code",
   "execution_count": null,
   "metadata": {
    "collapsed": false
   },
   "outputs": [],
   "source": [
    "po_statusu = skupine.groupby('status').sum()\n",
    "po_statusu.plot(subplots=True, kind='pie')\n",
    "statusi\n",
    "#propadajoca_zvrst = po_statusu.sum().sort_values('po_statusu', ascending=False)"
   ]
  },
  {
   "cell_type": "code",
   "execution_count": null,
   "metadata": {
    "collapsed": true
   },
   "outputs": [],
   "source": []
  }
 ],
 "metadata": {
  "kernelspec": {
   "display_name": "Python 2",
   "language": "python",
   "name": "python2"
  },
  "language_info": {
   "codemirror_mode": {
    "name": "ipython",
    "version": 2
   },
   "file_extension": ".py",
   "mimetype": "text/x-python",
   "name": "python",
   "nbconvert_exporter": "python",
   "pygments_lexer": "ipython2",
   "version": "2.7.12"
  }
 },
 "nbformat": 4,
 "nbformat_minor": 1
}
